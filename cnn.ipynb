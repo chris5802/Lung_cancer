{
 "cells": [
  {
   "cell_type": "code",
   "execution_count": 1,
   "id": "89ea9c34",
   "metadata": {},
   "outputs": [],
   "source": [
    "import numpy as np\n",
    "import os\n",
    "from sklearn.model_selection import train_test_split\n",
    "from tensorflow import keras\n",
    "from tensorflow.keras import layers\n",
    "from tensorflow.keras import models\n",
    "from tensorflow.keras.preprocessing.image import img_to_array\n",
    "from tensorflow.keras.preprocessing.image import load_img\n",
    "import matplotlib.pyplot as plt"
   ]
  },
  {
   "cell_type": "code",
   "execution_count": 2,
   "id": "35893a01",
   "metadata": {},
   "outputs": [],
   "source": [
    "epochs = 10  # 訓練的次數\n",
    "img_rows = None # 影像檔的高\n",
    "img_cols = None # 影像檔的寬\n",
    "x_list = list() # 存所有影像的array\n",
    "y_list = list() # 存所有名稱的 array\n",
    "x_train = list()\n",
    "y_train = list()\n",
    "x_test = list()\n",
    "y_test = list()\n"
   ]
  },
  {
   "cell_type": "code",
   "execution_count": 3,
   "id": "a7b32dfc",
   "metadata": {},
   "outputs": [],
   "source": [
    "path = 'training(new)/'"
   ]
  },
  {
   "cell_type": "code",
   "execution_count": 4,
   "id": "5dac547d",
   "metadata": {},
   "outputs": [
    {
     "data": {
      "text/plain": [
       "['abdomen',\n",
       " 'clavicle',\n",
       " 'lower',\n",
       " 'lung(lower)',\n",
       " 'lung(upper)',\n",
       " 'other',\n",
       " 'upper']"
      ]
     },
     "execution_count": 4,
     "metadata": {},
     "output_type": "execute_result"
    }
   ],
   "source": [
    "folder_filenames = os.listdir(path)\n",
    "folder_filenames"
   ]
  },
  {
   "cell_type": "code",
   "execution_count": 5,
   "id": "8744c485",
   "metadata": {},
   "outputs": [],
   "source": [
    "\n",
    "i = 0\n",
    "for folder_filename in folder_filenames:\n",
    "    for img_filename in os.listdir(path+folder_filename):\n",
    "        if '.png' not in img_filename:\n",
    "            continue\n",
    "        img = load_img((path+folder_filename+'/{0}').format(img_filename, color_mode = 'grayscale'))\n",
    "        img = img.convert('L')\n",
    "        img_array = img_to_array(img)\n",
    "        # n = img_array[464:976,704:1216]\n",
    "        n = img_array\n",
    "        n = (n - np.min(n)) / (np.max(n)-np.min(n))\n",
    "        \n",
    "        #n = np.where(n>np.mean(n), 255, 0)\n",
    "        \n",
    "        x_list.append(n)\n",
    "        y_list.append(i)\n",
    "        \n",
    "        (img_rows, img_columns ) = img_array.shape[0], img_array.shape[1]\n",
    "    i = i + 1"
   ]
  },
  {
   "cell_type": "code",
   "execution_count": 6,
   "id": "4e89d7dd",
   "metadata": {},
   "outputs": [],
   "source": [
    "y_list = keras.utils.to_categorical(y_list, num_classes=10)"
   ]
  },
  {
   "cell_type": "code",
   "execution_count": null,
   "id": "2c16ff97",
   "metadata": {},
   "outputs": [],
   "source": []
  },
  {
   "cell_type": "code",
   "execution_count": null,
   "id": "f4c6b5fd",
   "metadata": {},
   "outputs": [],
   "source": []
  },
  {
   "cell_type": "code",
   "execution_count": 7,
   "id": "41413f7f",
   "metadata": {},
   "outputs": [],
   "source": [
    "#np.save('x_list', x_list)\n",
    "#np.save('y_list', y_list)"
   ]
  },
  {
   "cell_type": "code",
   "execution_count": 8,
   "id": "442e68d8",
   "metadata": {},
   "outputs": [],
   "source": [
    "# 將訓練資料拆分成測試集 驗證集\n",
    "x_train, x_test, y_train, y_test = train_test_split(x_list, y_list)"
   ]
  },
  {
   "cell_type": "code",
   "execution_count": 9,
   "id": "a3894553",
   "metadata": {},
   "outputs": [],
   "source": [
    "x_train = np.array(x_train)\n",
    "x_test = np.array(x_test)\n",
    "y_train = np.array(y_train)\n",
    "y_test = np.array(y_test)\n"
   ]
  },
  {
   "cell_type": "code",
   "execution_count": 10,
   "id": "27aebd8a",
   "metadata": {},
   "outputs": [],
   "source": [
    "# x_train = x_train  / 255\n",
    "# x_test = x_test / 255"
   ]
  },
  {
   "cell_type": "code",
   "execution_count": 11,
   "id": "3305ccbb",
   "metadata": {},
   "outputs": [
    {
     "data": {
      "text/plain": [
       "(512, 512)"
      ]
     },
     "execution_count": 11,
     "metadata": {},
     "output_type": "execute_result"
    }
   ],
   "source": [
    "img_rows,img_columns"
   ]
  },
  {
   "cell_type": "code",
   "execution_count": 12,
   "id": "10c70a3b",
   "metadata": {},
   "outputs": [
    {
     "data": {
      "text/plain": [
       "(379, 512, 512, 1)"
      ]
     },
     "execution_count": 12,
     "metadata": {},
     "output_type": "execute_result"
    }
   ],
   "source": [
    "x_train.shape"
   ]
  },
  {
   "cell_type": "code",
   "execution_count": 13,
   "id": "4e6dad53",
   "metadata": {},
   "outputs": [
    {
     "name": "stdout",
     "output_type": "stream",
     "text": [
      "New model created.\n"
     ]
    }
   ],
   "source": [
    "\n",
    "#if os.path.isfile('cnn_model.h5'):\n",
    "    #model = models.load_model('cnn_model.h5')\n",
    "    #print('Model loaded from file.')\n",
    "#else:\n",
    "\n",
    "model = models.Sequential()\n",
    "model.add(layers.Conv2D(32, kernel_size=(3, 3), padding ='same', input_shape=(512, 512, 1 ),activation='relu',))\n",
    "model.add(layers.MaxPooling2D(pool_size=(2, 2)))\n",
    "model.add(layers.Conv2D(64, (3, 3),padding='same',activation='relu'))\n",
    "model.add(layers.MaxPooling2D(pool_size=(2, 2)))\n",
    "model.add(layers.Dropout(rate=0.25))\n",
    "model.add(layers.Flatten())\n",
    "model.add(layers.Dense(128, activation='relu'))\n",
    "model.add(layers.Dropout(rate=0.5))\n",
    "model.add(layers.Dense(10, activation='softmax'))\n",
    "print('New model created.')\n",
    " \n",
    "model.compile(loss=keras.losses.categorical_crossentropy, optimizer=keras.optimizers.Adam(), metrics=['accuracy'])\n"
   ]
  },
  {
   "cell_type": "code",
   "execution_count": 14,
   "id": "87864e77",
   "metadata": {},
   "outputs": [
    {
     "name": "stdout",
     "output_type": "stream",
     "text": [
      "Model: \"sequential\"\n",
      "_________________________________________________________________\n",
      "Layer (type)                 Output Shape              Param #   \n",
      "=================================================================\n",
      "conv2d (Conv2D)              (None, 512, 512, 32)      320       \n",
      "_________________________________________________________________\n",
      "max_pooling2d (MaxPooling2D) (None, 256, 256, 32)      0         \n",
      "_________________________________________________________________\n",
      "conv2d_1 (Conv2D)            (None, 256, 256, 64)      18496     \n",
      "_________________________________________________________________\n",
      "max_pooling2d_1 (MaxPooling2 (None, 128, 128, 64)      0         \n",
      "_________________________________________________________________\n",
      "dropout (Dropout)            (None, 128, 128, 64)      0         \n",
      "_________________________________________________________________\n",
      "flatten (Flatten)            (None, 1048576)           0         \n",
      "_________________________________________________________________\n",
      "dense (Dense)                (None, 128)               134217856 \n",
      "_________________________________________________________________\n",
      "dropout_1 (Dropout)          (None, 128)               0         \n",
      "_________________________________________________________________\n",
      "dense_1 (Dense)              (None, 10)                1290      \n",
      "=================================================================\n",
      "Total params: 134,237,962\n",
      "Trainable params: 134,237,962\n",
      "Non-trainable params: 0\n",
      "_________________________________________________________________\n"
     ]
    }
   ],
   "source": [
    "model.summary()"
   ]
  },
  {
   "cell_type": "code",
   "execution_count": 15,
   "id": "2d542f07",
   "metadata": {},
   "outputs": [
    {
     "name": "stdout",
     "output_type": "stream",
     "text": [
      "Epoch 1/10\n",
      "3/3 [==============================] - 62s 21s/step - loss: 0.9900 - accuracy: 0.1900 - val_loss: 0.6845 - val_accuracy: 0.3701\n",
      "Epoch 2/10\n",
      "3/3 [==============================] - 62s 21s/step - loss: 0.9037 - accuracy: 0.3245 - val_loss: 0.2222 - val_accuracy: 0.5827\n",
      "Epoch 3/10\n",
      "3/3 [==============================] - 73s 24s/step - loss: 0.2373 - accuracy: 0.5172 - val_loss: 0.1886 - val_accuracy: 0.5984\n",
      "Epoch 4/10\n",
      "3/3 [==============================] - 58s 19s/step - loss: 0.1691 - accuracy: 0.7230 - val_loss: 0.1120 - val_accuracy: 0.8110\n",
      "Epoch 5/10\n",
      "3/3 [==============================] - 63s 21s/step - loss: 0.0984 - accuracy: 0.8338 - val_loss: 0.0598 - val_accuracy: 0.8898\n",
      "Epoch 6/10\n",
      "3/3 [==============================] - 61s 20s/step - loss: 0.0557 - accuracy: 0.9077 - val_loss: 0.0483 - val_accuracy: 0.8976\n",
      "Epoch 7/10\n",
      "3/3 [==============================] - 63s 21s/step - loss: 0.0418 - accuracy: 0.9288 - val_loss: 0.0550 - val_accuracy: 0.8819\n",
      "Epoch 8/10\n",
      "3/3 [==============================] - 65s 22s/step - loss: 0.0272 - accuracy: 0.9446 - val_loss: 0.0497 - val_accuracy: 0.8976\n",
      "Epoch 9/10\n",
      "3/3 [==============================] - 63s 21s/step - loss: 0.0146 - accuracy: 0.9815 - val_loss: 0.0572 - val_accuracy: 0.9134\n",
      "Epoch 10/10\n",
      "3/3 [==============================] - 67s 22s/step - loss: 0.0119 - accuracy: 0.9815 - val_loss: 0.0559 - val_accuracy: 0.9213\n"
     ]
    }
   ],
   "source": [
    "model.compile(optimizer = 'adam', loss = 'binary_crossentropy', metrics = ['accuracy'])\n",
    "train_history = model.fit(x_train, y_train,\n",
    "          batch_size=128,\n",
    "          epochs=epochs,\n",
    "          verbose=1,\n",
    "          validation_data=(x_test, y_test))"
   ]
  },
  {
   "cell_type": "code",
   "execution_count": 16,
   "id": "0af1c1cd",
   "metadata": {},
   "outputs": [],
   "source": [
    "def show_train_history(title,train_history, train, validation):\n",
    "    plt.plot(train_history.history[train])\n",
    "    plt.plot(train_history.history[validation])\n",
    "    plt.title(title)\n",
    "    plt.ylabel('train')\n",
    "    plt.xlabel('Epoch')\n",
    "    plt.legend(['train', 'validation'], loc='center right')\n",
    "    plt.savefig(title+'png')\n",
    "    plt.show()"
   ]
  },
  {
   "cell_type": "code",
   "execution_count": 17,
   "id": "590da770",
   "metadata": {},
   "outputs": [
    {
     "data": {
      "image/png": "[encoded data removed]",
      "text/plain": [
       "<Figure size 432x288 with 1 Axes>"
      ]
     },
     "metadata": {
      "needs_background": "light"
     },
     "output_type": "display_data"
    },
    {
     "data": {
      "image/png": "[encoded data removed]",
      "text/plain": [
       "<Figure size 432x288 with 1 Axes>"
      ]
     },
     "metadata": {
      "needs_background": "light"
     },
     "output_type": "display_data"
    }
   ],
   "source": [
    "show_train_history('accuracy',train_history,'accuracy','val_accuracy')\n",
    "show_train_history('loss',train_history,'loss','val_loss')"
   ]
  },
  {
   "cell_type": "code",
   "execution_count": 18,
   "id": "d51a2307",
   "metadata": {},
   "outputs": [],
   "source": [
    "model.save('training(new).h5')"
   ]
  },
  {
   "cell_type": "code",
   "execution_count": 19,
   "id": "41dcc6f6",
   "metadata": {},
   "outputs": [
    {
     "name": "stdout",
     "output_type": "stream",
     "text": [
      "4/4 [==============================] - 2s 514ms/step - loss: 0.0559 - accuracy: 0.9213\n"
     ]
    }
   ],
   "source": [
    "scores = model.evaluate(x_test,y_test)"
   ]
  },
  {
   "cell_type": "code",
   "execution_count": 20,
   "id": "daec573a",
   "metadata": {},
   "outputs": [],
   "source": [
    "test_list = list()\n",
    "ans_list = list()"
   ]
  },
  {
   "cell_type": "code",
   "execution_count": null,
   "id": "c6f6bfb0",
   "metadata": {},
   "outputs": [],
   "source": [
    "\n",
    "        \n",
    "             \n",
    "\n",
    "\n",
    "test_path = 'patient007/'\n",
    "    \n",
    "for img_filename in os.listdir(test_path):\n",
    "    if '.png' not in img_filename:\n",
    "        continue\n",
    "        \n",
    "    img = load_img((test_path+'/{0}').format(img_filename, color_mode = 'grayscale'))\n",
    "    img = img.convert('L')\n",
    "    img_array = img_to_array(img)\n",
    "        \n",
    "    n = img_array\n",
    "    n = (n - np.min(n)) / (np.max(n)-np.min(n))\n",
    "    #n = np.where(n>np.mean(n), 255, 0)\n",
    "    # ans_list.append(i)\n",
    "    test_list.append(n)\n",
    "    \n",
    "        \n",
    "       \n",
    "        \n",
    "       \n",
    "        "
   ]
  },
  {
   "cell_type": "code",
   "execution_count": null,
   "id": "cc6c0715",
   "metadata": {},
   "outputs": [],
   "source": [
    "test_list = np.array(test_list)\n"
   ]
  },
  {
   "cell_type": "code",
   "execution_count": null,
   "id": "c52ac7e7",
   "metadata": {},
   "outputs": [],
   "source": [
    "plt.imshow(test_list[0])"
   ]
  },
  {
   "cell_type": "code",
   "execution_count": null,
   "id": "67aa1cfc",
   "metadata": {},
   "outputs": [],
   "source": [
    "test_list.shape"
   ]
  },
  {
   "cell_type": "code",
   "execution_count": null,
   "id": "a41b5b86",
   "metadata": {},
   "outputs": [],
   "source": [
    "predict_list = model.predict_classes(test_list)"
   ]
  },
  {
   "cell_type": "code",
   "execution_count": null,
   "id": "b91917da",
   "metadata": {},
   "outputs": [],
   "source": [
    "print(predict_list)"
   ]
  },
  {
   "cell_type": "code",
   "execution_count": null,
   "id": "c8308fd3",
   "metadata": {},
   "outputs": [],
   "source": [
    "ans_list = np.array(ans_list)\n"
   ]
  },
  {
   "cell_type": "code",
   "execution_count": null,
   "id": "0ab11fbf",
   "metadata": {},
   "outputs": [],
   "source": [
    "compare = predict_list - ans_list"
   ]
  },
  {
   "cell_type": "code",
   "execution_count": null,
   "id": "12b0a1ff",
   "metadata": {},
   "outputs": [],
   "source": [
    "compare"
   ]
  }
 ],
 "metadata": {
  "kernelspec": {
   "display_name": "pytorch",
   "language": "python",
   "name": "pytorch"
  },
  "language_info": {
   "codemirror_mode": {
    "name": "ipython",
    "version": 3
   },
   "file_extension": ".py",
   "mimetype": "text/x-python",
   "name": "python",
   "nbconvert_exporter": "python",
   "pygments_lexer": "ipython3",
   "version": "3.8.12"
  }
 },
 "nbformat": 4,
 "nbformat_minor": 5
}
