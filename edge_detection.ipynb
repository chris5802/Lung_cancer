{
 "cells": [
  {
   "cell_type": "code",
   "execution_count": 9,
   "id": "89ea9c34",
   "metadata": {},
   "outputs": [],
   "source": [
    "import numpy as np\n",
    "import os\n",
    "from sklearn.model_selection import train_test_split\n",
    "from tensorflow import keras\n",
    "from tensorflow.keras import layers\n",
    "from tensorflow.keras import models\n",
    "from tensorflow.keras.preprocessing.image import img_to_array\n",
    "from tensorflow.keras.preprocessing.image import load_img\n",
    "import matplotlib.pyplot as plt\n",
    "import cv2\n",
    "from PIL import Image"
   ]
  },
  {
   "cell_type": "markdown",
   "id": "d99d8fbe",
   "metadata": {},
   "source": [
    "### 讀取圖片資料夾"
   ]
  },
  {
   "cell_type": "code",
   "execution_count": 14,
   "id": "51f7a163",
   "metadata": {},
   "outputs": [],
   "source": [
    "path = '1027E/'"
   ]
  },
  {
   "cell_type": "code",
   "execution_count": 15,
   "id": "7ee340fd",
   "metadata": {},
   "outputs": [],
   "source": [
    "name_list = list()\n",
    "area_list = list()"
   ]
  },
  {
   "cell_type": "markdown",
   "id": "a062eed4",
   "metadata": {},
   "source": [
    "### 畫出遮罩"
   ]
  },
  {
   "cell_type": "code",
   "execution_count": 16,
   "id": "8744c485",
   "metadata": {},
   "outputs": [],
   "source": [
    "\n",
    "i = 0\n",
    "\n",
    "for img_filename in os.listdir(path):\n",
    "    if '.png' not in img_filename:\n",
    "        continue\n",
    "    \n",
    "    # Read image as grayscale\n",
    "    img = cv2.imread(path+img_filename, cv2.IMREAD_GRAYSCALE)\n",
    "    hh, ww = img.shape[:2]\n",
    "\n",
    "    # threshold\n",
    "    thresh = cv2.threshold(img, np.mean(img), 255, cv2.THRESH_BINARY)[1]\n",
    "\n",
    "    # get the (largest) contour\n",
    "    contours = cv2.findContours(thresh, cv2.RETR_EXTERNAL, cv2.CHAIN_APPROX_SIMPLE)\n",
    "    contours = contours[0] if len(contours) == 2 else contours[1]\n",
    "    big_contour = max(contours, key=cv2.contourArea)\n",
    "\n",
    "    # draw white filled contour on black background\n",
    "    mask = np.zeros_like(img)\n",
    "    cv2.drawContours(mask, [big_contour], 0, (255,255,255), cv2.FILLED)\n",
    "    \n",
    "    # save results\n",
    "    cv2.imwrite('1027E(mask)/'+img_filename, mask)\n",
    "    \n",
    "    # reverse mask pixel 0 <-> 255\n",
    "    mask = np.where(mask>127,0,255)\n",
    "   \n",
    "    # convert thresh dtype uint8 -> int32\n",
    "    thresh = thresh.astype('int32')\n",
    "    \n",
    "    # add mask \n",
    "    result = cv2.add(thresh,mask)\n",
    "    result = np.where(result >= 255,0,255)\n",
    "    \n",
    "    # save results\n",
    "    cv2.imwrite('1027E(result)/'+img_filename, result)\n",
    "    \n",
    "    \n",
    "        \n",
    "         \n",
    "   "
   ]
  },
  {
   "cell_type": "markdown",
   "id": "a9675449",
   "metadata": {},
   "source": [
    "### 計算白色區域函數"
   ]
  },
  {
   "cell_type": "code",
   "execution_count": 45,
   "id": "6addf69d",
   "metadata": {},
   "outputs": [],
   "source": [
    "def getWhitePixel(img):\n",
    "    area = 0\n",
    "    height, width = img.shape\n",
    "    for i in range(height):\n",
    "        for j in range(width):\n",
    "            if img[i, j] == 255:\n",
    "                area += 1\n",
    "    area = area/(height*width)\n",
    "    return area"
   ]
  }
 ],
 "metadata": {
  "kernelspec": {
   "display_name": "pytorch",
   "language": "python",
   "name": "pytorch"
  },
  "language_info": {
   "codemirror_mode": {
    "name": "ipython",
    "version": 3
   },
   "file_extension": ".py",
   "mimetype": "text/x-python",
   "name": "python",
   "nbconvert_exporter": "python",
   "pygments_lexer": "ipython3",
   "version": "3.8.12"
  }
 },
 "nbformat": 4,
 "nbformat_minor": 5
}
