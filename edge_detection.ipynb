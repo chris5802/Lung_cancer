{
 "cells": [
  {
   "cell_type": "code",
   "execution_count": 9,
   "id": "89ea9c34",
   "metadata": {},
   "outputs": [],
   "source": [
    "import numpy as np\n",
    "import os\n",
    "from sklearn.model_selection import train_test_split\n",
    "from tensorflow import keras\n",
    "from tensorflow.keras import layers\n",
    "from tensorflow.keras import models\n",
    "from tensorflow.keras.preprocessing.image import img_to_array\n",
    "from tensorflow.keras.preprocessing.image import load_img\n",
    "import matplotlib.pyplot as plt\n",
    "import cv2\n",
    "from PIL import Image"
   ]
  },
  {
   "cell_type": "markdown",
   "id": "d99d8fbe",
   "metadata": {},
   "source": [
    "### 讀取圖片資料夾"
   ]
  },
  {
   "cell_type": "code",
   "execution_count": 14,
   "id": "51f7a163",
   "metadata": {},
   "outputs": [],
   "source": [
    "path = '1027E/'"
   ]
  },
  {
   "cell_type": "code",
   "execution_count": 15,
   "id": "7ee340fd",
   "metadata": {},
   "outputs": [],
   "source": [
    "name_list = list()\n",
    "area_list = list()"
   ]
  },
  {
   "cell_type": "markdown",
   "id": "a062eed4",
   "metadata": {},
   "source": [
    "### 畫出遮罩"
   ]
  },
  {
   "cell_type": "code",
   "execution_count": 16,
   "id": "8744c485",
   "metadata": {},
   "outputs": [],
   "source": [
    "\n",
    "i = 0\n",
    "\n",
    "for img_filename in os.listdir(path):\n",
    "    if '.png' not in img_filename:\n",
    "        continue\n",
    "    \n",
    "    # Read image as grayscale\n",
    "    img = cv2.imread(path+img_filename, cv2.IMREAD_GRAYSCALE)\n",
    "    hh, ww = img.shape[:2]\n",
    "\n",
    "    # threshold\n",
    "    thresh = cv2.threshold(img, np.mean(img), 255, cv2.THRESH_BINARY)[1]\n",
    "\n",
    "    # get the (largest) contour\n",
    "    contours = cv2.findContours(thresh, cv2.RETR_EXTERNAL, cv2.CHAIN_APPROX_SIMPLE)\n",
    "    contours = contours[0] if len(contours) == 2 else contours[1]\n",
    "    big_contour = max(contours, key=cv2.contourArea)\n",
    "\n",
    "    # draw white filled contour on black background\n",
    "    mask = np.zeros_like(img)\n",
    "    cv2.drawContours(mask, [big_contour], 0, (255,255,255), cv2.FILLED)\n",
    "    \n",
    "    # save results\n",
    "    cv2.imwrite('1027E(mask)/'+img_filename, mask)\n",
    "    \n",
    "    # reverse mask pixel 0 <-> 255\n",
    "    mask = np.where(mask>127,0,255)\n",
    "   \n",
    "    # convert thresh dtype uint8 -> int32\n",
    "    thresh = thresh.astype('int32')\n",
    "    \n",
    "    # add mask \n",
    "    result = cv2.add(thresh,mask)\n",
    "    result = np.where(result >= 255,0,255)\n",
    "    \n",
    "    # save results\n",
    "    cv2.imwrite('1027E(result)/'+img_filename, result)\n",
    "    \n",
    "    \n",
    "        \n",
    "         \n",
    "   "
   ]
  },
  {
   "cell_type": "markdown",
   "id": "a9675449",
   "metadata": {},
   "source": [
    "### 計算白色區域函數"
   ]
  },
  {
   "cell_type": "code",
   "execution_count": 45,
   "id": "6addf69d",
   "metadata": {},
   "outputs": [],
   "source": [
    "def getWhitePixel(img):\n",
    "    area = 0\n",
    "    height, width = img.shape\n",
    "    for i in range(height):\n",
    "        for j in range(width):\n",
    "            if img[i, j] == 255:\n",
    "                area += 1\n",
    "    area = area/(height*width)\n",
    "    return area"
   ]
  },
  {
   "cell_type": "markdown",
   "id": "d890a736",
   "metadata": {},
   "source": [
    "### 讀取轉換後圖片資料夾"
   ]
  },
  {
   "cell_type": "code",
   "execution_count": 81,
   "id": "50c67e37",
   "metadata": {},
   "outputs": [],
   "source": [
    "mask_path = '1027E(new)/'\n",
    "path = '1027E/'"
   ]
  },
  {
   "cell_type": "code",
   "execution_count": 82,
   "id": "46c11a72",
   "metadata": {},
   "outputs": [],
   "source": [
    "name_list = list() # 記錄檔名\n",
    "area_list = list() # 紀錄區域"
   ]
  },
  {
   "cell_type": "code",
   "execution_count": 83,
   "id": "6170b116",
   "metadata": {},
   "outputs": [],
   "source": [
    "for img_filename in os.listdir(path):\n",
    "    if '.png' not in img_filename:\n",
    "        continue\n",
    "    mask = cv2.imread(mask_path+img_filename, cv2.IMREAD_GRAYSCALE)\n",
    "    img = cv2.imread(path+img_filename, cv2.IMREAD_GRAYSCALE)\n",
    "    "
   ]
  },
  {
   "cell_type": "code",
   "execution_count": 165,
   "id": "170fb7e4",
   "metadata": {},
   "outputs": [],
   "source": [
    "mask = cv2.imread(mask_path+'06-88-Frame1.png', cv2.IMREAD_GRAYSCALE)\n",
    "img = cv2.imread(path+'06-88-Frame1.png', cv2.IMREAD_GRAYSCALE)\n"
   ]
  },
  {
   "cell_type": "code",
   "execution_count": 166,
   "id": "198cc11a",
   "metadata": {},
   "outputs": [
    {
     "data": {
      "text/plain": [
       "dtype('int32')"
      ]
     },
     "execution_count": 166,
     "metadata": {},
     "output_type": "execute_result"
    }
   ],
   "source": [
    "mask = np.where(mask>127,0,255)\n",
    "thresh = cv2.threshold(img, 128, 255, cv2.THRESH_BINARY)[1]\n",
    "mask.dtype"
   ]
  },
  {
   "cell_type": "code",
   "execution_count": 180,
   "id": "09c50b5a",
   "metadata": {},
   "outputs": [],
   "source": [
    "thresh = thresh.astype('int32')"
   ]
  },
  {
   "cell_type": "code",
   "execution_count": 168,
   "id": "672a5b38",
   "metadata": {},
   "outputs": [],
   "source": [
    "image = cv2.add(thresh,mask)"
   ]
  },
  {
   "cell_type": "code",
   "execution_count": 169,
   "id": "d4eb9269",
   "metadata": {},
   "outputs": [],
   "source": [
    "image=np.where(image>=255,0,255)"
   ]
  },
  {
   "cell_type": "code",
   "execution_count": 181,
   "id": "dbed8c64",
   "metadata": {},
   "outputs": [
    {
     "data": {
      "image/png": "[encoded data removed]",
      "text/plain": [
       "<Figure size 432x288 with 1 Axes>"
      ]
     },
     "metadata": {
      "needs_background": "light"
     },
     "output_type": "display_data"
    }
   ],
   "source": [
    "plt.imshow(thresh )\n",
    "plt.show()"
   ]
  },
  {
   "cell_type": "code",
   "execution_count": 171,
   "id": "11b518c3",
   "metadata": {},
   "outputs": [
    {
     "data": {
      "image/png": "[encoded data removed]",
      "text/plain": [
       "<Figure size 432x288 with 1 Axes>"
      ]
     },
     "metadata": {
      "needs_background": "light"
     },
     "output_type": "display_data"
    }
   ],
   "source": [
    "plt.imshow(mask )\n",
    "plt.show()"
   ]
  },
  {
   "cell_type": "code",
   "execution_count": 172,
   "id": "03ef12c3",
   "metadata": {},
   "outputs": [
    {
     "data": {
      "image/png": "[encoded data removed]",
      "text/plain": [
       "<Figure size 432x288 with 1 Axes>"
      ]
     },
     "metadata": {
      "needs_background": "light"
     },
     "output_type": "display_data"
    }
   ],
   "source": [
    "plt.imshow(image)\n",
    "plt.show()"
   ]
  },
  {
   "cell_type": "code",
   "execution_count": 162,
   "id": "7330ab68",
   "metadata": {},
   "outputs": [],
   "source": []
  },
  {
   "cell_type": "code",
   "execution_count": null,
   "id": "8066c8ca",
   "metadata": {},
   "outputs": [],
   "source": []
  }
 ],
 "metadata": {
  "kernelspec": {
   "display_name": "pytorch",
   "language": "python",
   "name": "pytorch"
  },
  "language_info": {
   "codemirror_mode": {
    "name": "ipython",
    "version": 3
   },
   "file_extension": ".py",
   "mimetype": "text/x-python",
   "name": "python",
   "nbconvert_exporter": "python",
   "pygments_lexer": "ipython3",
   "version": "3.8.12"
  }
 },
 "nbformat": 4,
 "nbformat_minor": 5
}
